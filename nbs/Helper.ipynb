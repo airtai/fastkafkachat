{
 "cells": [
  {
   "cell_type": "code",
   "execution_count": null,
   "id": "679d8511",
   "metadata": {},
   "outputs": [],
   "source": [
    "# | default_exp _helper"
   ]
  },
  {
   "cell_type": "code",
   "execution_count": null,
   "id": "3a0c234d",
   "metadata": {},
   "outputs": [
    {
     "name": "stderr",
     "output_type": "stream",
     "text": [
      "/Users/harishm/miniforge3/envs/fastkafkachat/lib/python3.10/site-packages/tqdm/auto.py:21: TqdmWarning: IProgress not found. Please update jupyter and ipywidgets. See https://ipywidgets.readthedocs.io/en/stable/user_install.html\n",
      "  from .autonotebook import tqdm as notebook_tqdm\n"
     ]
    }
   ],
   "source": [
    "# | export\n",
    "\n",
    "\n",
    "from pathlib import Path\n",
    "from typing import *\n",
    "import logging\n",
    "from urllib.request import Request, urlopen\n",
    "from urllib.parse import urlparse, urljoin\n",
    "from urllib.error import HTTPError\n",
    "import zipfile\n",
    "import os\n",
    "import glob\n",
    "\n",
    "from bs4 import BeautifulSoup\n",
    "from langchain.chat_models import ChatOpenAI\n",
    "from llama_index import (\n",
    "    LLMPredictor,\n",
    "    ServiceContext,\n",
    ")"
   ]
  },
  {
   "cell_type": "code",
   "execution_count": null,
   "id": "e3dc338d",
   "metadata": {},
   "outputs": [],
   "source": [
    "from tempfile import TemporaryDirectory\n",
    "import shutil"
   ]
  },
  {
   "cell_type": "code",
   "execution_count": null,
   "id": "8c460468",
   "metadata": {},
   "outputs": [],
   "source": [
    "# | export\n",
    "\n",
    "def get_all_links_from_website(start_url: str, visited: Optional[set] = None) -> Set[str]:\n",
    "    \"\"\"Get a set of all links (URLs) found on the given website, starting from the given start URL.\n",
    "    \n",
    "    Args:\n",
    "        start_url: The starting URL of the website.\n",
    "        visited: Optional. A set of URLs that have already been visited. Defaults to an empty set.\n",
    "\n",
    "    Returns:\n",
    "        A set of all links found on the website.\n",
    "    \"\"\"\n",
    "    if visited is None:\n",
    "        visited = set()\n",
    "    try:\n",
    "        req = Request(start_url)\n",
    "        # nosemgrep: python.lang.security.audit.dynamic-urllib-use-detected.dynamic-urllib-use-detected\n",
    "        html_page = urlopen(req) # nosec B310\n",
    "        soup = BeautifulSoup(html_page, \"lxml\")\n",
    "\n",
    "        base_url = urlparse(start_url).scheme + '://' + urlparse(start_url).hostname #type: ignore\n",
    "\n",
    "        links = set()\n",
    "        for link in soup.find_all('a', href=True):\n",
    "            url = urljoin(base_url, link['href']).split(\"#\")[0].strip(\"/\")\n",
    "            if urlparse(url).hostname == urlparse(start_url).hostname:\n",
    "                links.add(url)\n",
    "\n",
    "        visited.add(start_url)\n",
    "        for link in links:\n",
    "            if link not in visited:\n",
    "                visited |= get_all_links_from_website(link, visited)\n",
    "                \n",
    "    except HTTPError as e:\n",
    "        logging.warning(f'Unable to parse: {e.url}')\n",
    "    \n",
    "    return visited"
   ]
  },
  {
   "cell_type": "code",
   "execution_count": null,
   "id": "7336e725",
   "metadata": {},
   "outputs": [
    {
     "name": "stderr",
     "output_type": "stream",
     "text": [
      "WARNING:root:Unable to parse: https://fastkafka.airt.ai/docs/next/api/fastkafka/_components/task_streaming/DynamicTaskExecutor.md\n",
      "WARNING:root:Unable to parse: https://fastkafka.airt.ai/docs/api/fastkafka/_components/task_streaming/DynamicTaskExecutor.md\n"
     ]
    },
    {
     "name": "stdout",
     "output_type": "stream",
     "text": [
      "len(all_links)=76\n",
      "\n",
      "\n"
     ]
    },
    {
     "data": {
      "text/plain": [
       "{'https://fastkafka.airt.ai',\n",
       " 'https://fastkafka.airt.ai/docs',\n",
       " 'https://fastkafka.airt.ai/docs/0.5.0',\n",
       " 'https://fastkafka.airt.ai/docs/0.5.0/CHANGELOG',\n",
       " 'https://fastkafka.airt.ai/docs/0.5.0/api/fastkafka',\n",
       " 'https://fastkafka.airt.ai/docs/0.5.0/api/fastkafka/KafkaEvent',\n",
       " 'https://fastkafka.airt.ai/docs/0.5.0/api/fastkafka/encoder/avsc_to_pydantic',\n",
       " 'https://fastkafka.airt.ai/docs/0.5.0/api/fastkafka/testing/ApacheKafkaBroker',\n",
       " 'https://fastkafka.airt.ai/docs/0.5.0/api/fastkafka/testing/LocalRedpandaBroker',\n",
       " 'https://fastkafka.airt.ai/docs/0.5.0/api/fastkafka/testing/Tester',\n",
       " 'https://fastkafka.airt.ai/docs/0.5.0/cli/fastkafka',\n",
       " 'https://fastkafka.airt.ai/docs/0.5.0/cli/run_fastkafka_server_process',\n",
       " 'https://fastkafka.airt.ai/docs/0.5.0/guides/Guide_04_Github_Actions_Workflow',\n",
       " 'https://fastkafka.airt.ai/docs/0.5.0/guides/Guide_05_Lifespan_Handler',\n",
       " 'https://fastkafka.airt.ai/docs/0.5.0/guides/Guide_06_Benchmarking_FastKafka',\n",
       " 'https://fastkafka.airt.ai/docs/0.5.0/guides/Guide_07_Encoding_and_Decoding_Messages_with_FastKafka',\n",
       " 'https://fastkafka.airt.ai/docs/0.5.0/guides/Guide_11_Consumes_Basics',\n",
       " 'https://fastkafka.airt.ai/docs/0.5.0/guides/Guide_21_Produces_Basics',\n",
       " 'https://fastkafka.airt.ai/docs/0.5.0/guides/Guide_22_Partition_Keys',\n",
       " 'https://fastkafka.airt.ai/docs/0.5.0/guides/Guide_30_Using_docker_to_deploy_fastkafka',\n",
       " 'https://fastkafka.airt.ai/docs/0.5.0/guides/Guide_31_Using_redpanda_to_test_fastkafka',\n",
       " 'https://fastkafka.airt.ai/docs/CHANGELOG',\n",
       " 'https://fastkafka.airt.ai/docs/CONTRIBUTING',\n",
       " 'https://fastkafka.airt.ai/docs/LICENSE',\n",
       " 'https://fastkafka.airt.ai/docs/api/fastkafka',\n",
       " 'https://fastkafka.airt.ai/docs/api/fastkafka/EventMetadata',\n",
       " 'https://fastkafka.airt.ai/docs/api/fastkafka/KafkaEvent',\n",
       " 'https://fastkafka.airt.ai/docs/api/fastkafka/encoder/AvroBase',\n",
       " 'https://fastkafka.airt.ai/docs/api/fastkafka/encoder/avro_decoder',\n",
       " 'https://fastkafka.airt.ai/docs/api/fastkafka/encoder/avro_encoder',\n",
       " 'https://fastkafka.airt.ai/docs/api/fastkafka/encoder/avsc_to_pydantic',\n",
       " 'https://fastkafka.airt.ai/docs/api/fastkafka/encoder/json_decoder',\n",
       " 'https://fastkafka.airt.ai/docs/api/fastkafka/encoder/json_encoder',\n",
       " 'https://fastkafka.airt.ai/docs/api/fastkafka/testing/ApacheKafkaBroker',\n",
       " 'https://fastkafka.airt.ai/docs/api/fastkafka/testing/LocalRedpandaBroker',\n",
       " 'https://fastkafka.airt.ai/docs/api/fastkafka/testing/Tester',\n",
       " 'https://fastkafka.airt.ai/docs/cli/fastkafka',\n",
       " 'https://fastkafka.airt.ai/docs/cli/run_fastkafka_server_process',\n",
       " 'https://fastkafka.airt.ai/docs/guides/Guide_04_Github_Actions_Workflow',\n",
       " 'https://fastkafka.airt.ai/docs/guides/Guide_05_Lifespan_Handler',\n",
       " 'https://fastkafka.airt.ai/docs/guides/Guide_06_Benchmarking_FastKafka',\n",
       " 'https://fastkafka.airt.ai/docs/guides/Guide_07_Encoding_and_Decoding_Messages_with_FastKafka',\n",
       " 'https://fastkafka.airt.ai/docs/guides/Guide_11_Consumes_Basics',\n",
       " 'https://fastkafka.airt.ai/docs/guides/Guide_21_Produces_Basics',\n",
       " 'https://fastkafka.airt.ai/docs/guides/Guide_22_Partition_Keys',\n",
       " 'https://fastkafka.airt.ai/docs/guides/Guide_23_Batch_Producing',\n",
       " 'https://fastkafka.airt.ai/docs/guides/Guide_30_Using_docker_to_deploy_fastkafka',\n",
       " 'https://fastkafka.airt.ai/docs/guides/Guide_31_Using_redpanda_to_test_fastkafka',\n",
       " 'https://fastkafka.airt.ai/docs/next',\n",
       " 'https://fastkafka.airt.ai/docs/next/CHANGELOG',\n",
       " 'https://fastkafka.airt.ai/docs/next/CONTRIBUTING',\n",
       " 'https://fastkafka.airt.ai/docs/next/LICENSE',\n",
       " 'https://fastkafka.airt.ai/docs/next/api/fastkafka',\n",
       " 'https://fastkafka.airt.ai/docs/next/api/fastkafka/EventMetadata',\n",
       " 'https://fastkafka.airt.ai/docs/next/api/fastkafka/KafkaEvent',\n",
       " 'https://fastkafka.airt.ai/docs/next/api/fastkafka/encoder/AvroBase',\n",
       " 'https://fastkafka.airt.ai/docs/next/api/fastkafka/encoder/avro_decoder',\n",
       " 'https://fastkafka.airt.ai/docs/next/api/fastkafka/encoder/avro_encoder',\n",
       " 'https://fastkafka.airt.ai/docs/next/api/fastkafka/encoder/avsc_to_pydantic',\n",
       " 'https://fastkafka.airt.ai/docs/next/api/fastkafka/encoder/json_decoder',\n",
       " 'https://fastkafka.airt.ai/docs/next/api/fastkafka/encoder/json_encoder',\n",
       " 'https://fastkafka.airt.ai/docs/next/api/fastkafka/testing/ApacheKafkaBroker',\n",
       " 'https://fastkafka.airt.ai/docs/next/api/fastkafka/testing/LocalRedpandaBroker',\n",
       " 'https://fastkafka.airt.ai/docs/next/api/fastkafka/testing/Tester',\n",
       " 'https://fastkafka.airt.ai/docs/next/cli/fastkafka',\n",
       " 'https://fastkafka.airt.ai/docs/next/cli/run_fastkafka_server_process',\n",
       " 'https://fastkafka.airt.ai/docs/next/guides/Guide_04_Github_Actions_Workflow',\n",
       " 'https://fastkafka.airt.ai/docs/next/guides/Guide_05_Lifespan_Handler',\n",
       " 'https://fastkafka.airt.ai/docs/next/guides/Guide_06_Benchmarking_FastKafka',\n",
       " 'https://fastkafka.airt.ai/docs/next/guides/Guide_07_Encoding_and_Decoding_Messages_with_FastKafka',\n",
       " 'https://fastkafka.airt.ai/docs/next/guides/Guide_11_Consumes_Basics',\n",
       " 'https://fastkafka.airt.ai/docs/next/guides/Guide_21_Produces_Basics',\n",
       " 'https://fastkafka.airt.ai/docs/next/guides/Guide_22_Partition_Keys',\n",
       " 'https://fastkafka.airt.ai/docs/next/guides/Guide_23_Batch_Producing',\n",
       " 'https://fastkafka.airt.ai/docs/next/guides/Guide_30_Using_docker_to_deploy_fastkafka',\n",
       " 'https://fastkafka.airt.ai/docs/next/guides/Guide_31_Using_redpanda_to_test_fastkafka'}"
      ]
     },
     "metadata": {},
     "output_type": "display_data"
    }
   ],
   "source": [
    "all_links = get_all_links_from_website(\"https://fastkafka.airt.ai\")\n",
    "print(f\"{len(all_links)=}\\n\\n\")\n",
    "display(all_links)\n",
    "\n",
    "assert len(all_links) > 0\n",
    "assert 'https://fastkafka.airt.ai/docs/CHANGELOG' in all_links\n",
    "assert 'https://fastkafka.airt.ai/docs' in all_links"
   ]
  },
  {
   "cell_type": "code",
   "execution_count": null,
   "id": "15668d33",
   "metadata": {},
   "outputs": [],
   "source": [
    "# | export\n",
    "\n",
    "\n",
    "def extract_latest_doc_urls(start_url: str, urls: List[str]) -> List[str]:\n",
    "    \"\"\"Extract latest documentation URLs from a list of URLs.\n",
    "\n",
    "    Args:\n",
    "        start_url: The URL of the documentation homepage.\n",
    "        urls: A list of documentation URLs to be filtered.\n",
    "\n",
    "    Returns:\n",
    "        A new list containing only the latest version of the documentation URLs.\n",
    "    \"\"\"\n",
    "    ret_val = []\n",
    "    for url in urls:\n",
    "        parts = url.split(f\"{start_url}/docs/\")\n",
    "        if len(parts) == 1:\n",
    "            ret_val.append(url)\n",
    "        else:\n",
    "            identifier = parts[1].split(\"/\")[0]\n",
    "            if identifier != \"next\" and not identifier.replace(\".\", \"\").isdigit():\n",
    "                ret_val.append(url)\n",
    "    return ret_val"
   ]
  },
  {
   "cell_type": "code",
   "execution_count": null,
   "id": "4cf56489",
   "metadata": {},
   "outputs": [
    {
     "data": {
      "text/plain": [
       "['https://fastkafka.airt.ai/docs/guides/Guide_11_Consumes_Basics',\n",
       " 'https://fastkafka.airt.ai/docs',\n",
       " 'https://fastkafka.airt.ai/docs/CHANGELOG',\n",
       " 'https://fastkafka.airt.ai/docs/api/fastkafka/KafkaEvent',\n",
       " 'https://fastkafka.airt.ai/docs/guides/Guide_07_Encoding_and_Decoding_Messages_with_FastKafka',\n",
       " 'https://fastkafka.airt.ai',\n",
       " 'https://fastkafka.airt.ai/docs/guides/Guide_30_Using_docker_to_deploy_fastkafka',\n",
       " 'https://fastkafka.airt.ai/docs/guides/Guide_05_Lifespan_Handler',\n",
       " 'https://fastkafka.airt.ai/docs/api/fastkafka',\n",
       " 'https://fastkafka.airt.ai/docs/api/fastkafka/testing/ApacheKafkaBroker',\n",
       " 'https://fastkafka.airt.ai/docs/api/fastkafka/encoder/avsc_to_pydantic',\n",
       " 'https://fastkafka.airt.ai/docs/guides/Guide_06_Benchmarking_FastKafka',\n",
       " 'https://fastkafka.airt.ai/docs/guides/Guide_21_Produces_Basics',\n",
       " 'https://fastkafka.airt.ai/docs/guides/Guide_22_Partition_Keys',\n",
       " 'https://fastkafka.airt.ai/docs/api/fastkafka/testing/LocalRedpandaBroker',\n",
       " 'https://fastkafka.airt.ai/docs/guides/Guide_31_Using_redpanda_to_test_fastkafka',\n",
       " 'https://fastkafka.airt.ai/docs/cli/run_fastkafka_server_process',\n",
       " 'https://fastkafka.airt.ai/docs/guides/Guide_04_Github_Actions_Workflow',\n",
       " 'https://fastkafka.airt.ai/docs/api/fastkafka/testing/Tester',\n",
       " 'https://fastkafka.airt.ai/docs/cli/fastkafka']"
      ]
     },
     "metadata": {},
     "output_type": "display_data"
    }
   ],
   "source": [
    "fixture_all_links = ['https://fastkafka.airt.ai/docs/next/api/fastkafka/KafkaEvent', 'https://fastkafka.airt.ai/docs/guides/Guide_11_Consumes_Basics', 'https://fastkafka.airt.ai/docs/next/api/fastkafka/testing/Tester', 'https://fastkafka.airt.ai/docs', 'https://fastkafka.airt.ai/docs/next/api/fastkafka/testing/ApacheKafkaBroker', 'https://fastkafka.airt.ai/docs/next/guides/Guide_05_Lifespan_Handler', 'https://fastkafka.airt.ai/docs/next/guides/Guide_11_Consumes_Basics', 'https://fastkafka.airt.ai/docs/next/guides/Guide_21_Produces_Basics', 'https://fastkafka.airt.ai/docs/CHANGELOG', 'https://fastkafka.airt.ai/docs/next/guides/Guide_22_Partition_Keys', 'https://fastkafka.airt.ai/docs/next/guides/Guide_07_Encoding_and_Decoding_Messages_with_FastKafka', 'https://fastkafka.airt.ai/docs/next/api/fastkafka/testing/LocalRedpandaBroker', 'https://fastkafka.airt.ai/docs/next/CONTRIBUTING', 'https://fastkafka.airt.ai/docs/api/fastkafka/KafkaEvent', 'https://fastkafka.airt.ai/docs/guides/Guide_07_Encoding_and_Decoding_Messages_with_FastKafka', 'https://fastkafka.airt.ai', 'https://fastkafka.airt.ai/docs/guides/Guide_30_Using_docker_to_deploy_fastkafka', 'https://fastkafka.airt.ai/docs/next/api/fastkafka/encoder/avsc_to_pydantic', 'https://fastkafka.airt.ai/docs/guides/Guide_05_Lifespan_Handler', 'https://fastkafka.airt.ai/docs/next/cli/fastkafka', 'https://fastkafka.airt.ai/docs/api/fastkafka', 'https://fastkafka.airt.ai/docs/api/fastkafka/testing/ApacheKafkaBroker', 'https://fastkafka.airt.ai/docs/api/fastkafka/encoder/avsc_to_pydantic', 'https://fastkafka.airt.ai/docs/next/guides/Guide_04_Github_Actions_Workflow', 'https://fastkafka.airt.ai/docs/guides/Guide_06_Benchmarking_FastKafka', 'https://fastkafka.airt.ai/docs/next/guides/Guide_06_Benchmarking_FastKafka', 'https://fastkafka.airt.ai/docs/next/CHANGELOG', 'https://fastkafka.airt.ai/docs/guides/Guide_21_Produces_Basics', 'https://fastkafka.airt.ai/docs/next/guides/Guide_30_Using_docker_to_deploy_fastkafka', 'https://fastkafka.airt.ai/docs/next/guides/Guide_31_Using_redpanda_to_test_fastkafka', 'https://fastkafka.airt.ai/docs/guides/Guide_22_Partition_Keys', 'https://fastkafka.airt.ai/docs/api/fastkafka/testing/LocalRedpandaBroker', 'https://fastkafka.airt.ai/docs/next/api/fastkafka', 'https://fastkafka.airt.ai/docs/guides/Guide_31_Using_redpanda_to_test_fastkafka', 'https://fastkafka.airt.ai/docs/cli/run_fastkafka_server_process', 'https://fastkafka.airt.ai/docs/guides/Guide_04_Github_Actions_Workflow', 'https://fastkafka.airt.ai/docs/api/fastkafka/testing/Tester', 'https://fastkafka.airt.ai/docs/next', 'https://fastkafka.airt.ai/docs/cli/fastkafka', 'https://fastkafka.airt.ai/docs/next/cli/run_fastkafka_server_process', 'https://fastkafka.airt.ai/docs/next/LICENSE']\n",
    "start_url = \"https://fastkafka.airt.ai\"\n",
    "actual = extract_latest_doc_urls(start_url, fixture_all_links)\n",
    "\n",
    "display(actual)\n",
    "assert len(actual) == 20\n",
    "assert 'https://fastkafka.airt.ai/docs/next' not in actual"
   ]
  },
  {
   "cell_type": "code",
   "execution_count": null,
   "id": "36933150",
   "metadata": {},
   "outputs": [
    {
     "name": "stdout",
     "output_type": "stream",
     "text": [
      "['https://fastkafka.airt.ai/docs/CHANGELOG']\n"
     ]
    }
   ],
   "source": [
    "fixture = [\n",
    "    \"https://fastkafka.airt.ai/docs/CHANGELOG\",\n",
    "    \"https://fastkafka.airt.ai/docs/next/CHANGELOG\",\n",
    "    \"https://fastkafka.airt.ai/docs/0.6.0/CHANGELOG\",\n",
    "    \"https://fastkafka.airt.ai/docs/0.5.0/CHANGELOG\",\n",
    "]\n",
    "start_url = \"https://fastkafka.airt.ai\"\n",
    "expected = [\"https://fastkafka.airt.ai/docs/CHANGELOG\"]\n",
    "actual = extract_latest_doc_urls(start_url, fixture)\n",
    "print(actual)\n",
    "\n",
    "assert actual == expected"
   ]
  },
  {
   "cell_type": "code",
   "execution_count": null,
   "id": "2a642f55",
   "metadata": {},
   "outputs": [
    {
     "name": "stdout",
     "output_type": "stream",
     "text": [
      "['https://fastkafka.airt.ai/docs/cli/fastkafka']\n"
     ]
    }
   ],
   "source": [
    "fixture = [\n",
    "    \"https://fastkafka.airt.ai/docs/cli/fastkafka\",\n",
    "    \"https://fastkafka.airt.ai/docs/next/cli/fastkafka\",\n",
    "    \"https://fastkafka.airt.ai/docs/0.6.0/cli/fastkafka\",\n",
    "    \"https://fastkafka.airt.ai/docs/0.5.0/cli/fastkafka\",\n",
    "]\n",
    "start_url = \"https://fastkafka.airt.ai\"\n",
    "expected = [\"https://fastkafka.airt.ai/docs/cli/fastkafka\"]\n",
    "actual = extract_latest_doc_urls(start_url, fixture)\n",
    "print(actual)\n",
    "\n",
    "assert actual == expected"
   ]
  },
  {
   "cell_type": "code",
   "execution_count": null,
   "id": "4b1a2585",
   "metadata": {},
   "outputs": [
    {
     "name": "stdout",
     "output_type": "stream",
     "text": [
      "['https://fastkafka.airt.ai/docs/api/fastkafka/testing/ApacheKafkaBroker']\n"
     ]
    }
   ],
   "source": [
    "fixture = [\n",
    "    \"https://fastkafka.airt.ai/docs/api/fastkafka/testing/ApacheKafkaBroker\",\n",
    "    \"https://fastkafka.airt.ai/docs/next/api/fastkafka/testing/ApacheKafkaBroker\",\n",
    "    \"https://fastkafka.airt.ai/docs/0.6.0/api/fastkafka/testing/ApacheKafkaBroker\",\n",
    "    \"https://fastkafka.airt.ai/docs/0.5.0/api/fastkafka/testing/ApacheKafkaBroker\",\n",
    "]\n",
    "start_url = \"https://fastkafka.airt.ai\"\n",
    "expected = [\"https://fastkafka.airt.ai/docs/api/fastkafka/testing/ApacheKafkaBroker\"]\n",
    "actual = extract_latest_doc_urls(start_url, fixture)\n",
    "print(actual)\n",
    "\n",
    "assert actual == expected"
   ]
  },
  {
   "cell_type": "code",
   "execution_count": null,
   "id": "ff74fdf7",
   "metadata": {},
   "outputs": [],
   "source": [
    "# | export\n",
    "\n",
    "def get_service_context() -> ServiceContext:\n",
    "    \"\"\"Return a service context object initialized with an LLM predictor based on the gpt-3.5-turbo model\n",
    "    \n",
    "    Returns:\n",
    "        A ServiceContext object with an LLMPredictor and a chunk size limit.\n",
    "    \"\"\"\n",
    "    llm_predictor = LLMPredictor(\n",
    "        llm=ChatOpenAI(temperature=0, model_name=\"gpt-3.5-turbo\")\n",
    "    )\n",
    "    service_context = ServiceContext.from_defaults(\n",
    "        llm_predictor=llm_predictor, chunk_size_limit=512\n",
    "    )\n",
    "    \n",
    "    return service_context"
   ]
  },
  {
   "cell_type": "code",
   "execution_count": null,
   "id": "ac6b431a",
   "metadata": {},
   "outputs": [
    {
     "name": "stderr",
     "output_type": "stream",
     "text": [
      "WARNING:llama_index.llm_predictor.base:Unknown max input size for gpt-3.5-turbo, using defaults.\n"
     ]
    },
    {
     "name": "stdout",
     "output_type": "stream",
     "text": [
      "ServiceContext(llm_predictor=<llama_index.llm_predictor.base.LLMPredictor object>, prompt_helper=<llama_index.indices.prompt_helper.PromptHelper object>, embed_model=<llama_index.embeddings.openai.OpenAIEmbedding object>, node_parser=<llama_index.node_parser.simple.SimpleNodeParser object>, llama_logger=<llama_index.logger.base.LlamaLogger object>, callback_manager=<llama_index.callbacks.base.CallbackManager object>, chunk_size_limit=512)\n"
     ]
    }
   ],
   "source": [
    "service_context = get_service_context()\n",
    "\n",
    "print(service_context)\n",
    "assert type(service_context) == ServiceContext"
   ]
  },
  {
   "cell_type": "code",
   "execution_count": null,
   "id": "31b59635",
   "metadata": {},
   "outputs": [],
   "source": [
    "# | export\n",
    "\n",
    "def zip_index_files(data_dir_path: str) -> None:\n",
    "    \"\"\"Compresses all JSON index files within a folder into a ZIP archive.\n",
    "\n",
    "    Args:\n",
    "        data_dir_path: The path of the folder to be compressed.\n",
    "    \"\"\"\n",
    "    target_path = os.path.join(data_dir_path, 'website_index.zip')\n",
    "    with zipfile.ZipFile(target_path, 'w', zipfile.ZIP_DEFLATED) as zipf:\n",
    "        file_paths = glob.glob(os.path.join(data_dir_path, '*.json'))\n",
    "        for file_path in file_paths:\n",
    "            file_name = os.path.basename(file_path)\n",
    "            zipf.write(file_path, arcname=file_name)"
   ]
  },
  {
   "cell_type": "code",
   "execution_count": null,
   "id": "b99404f7",
   "metadata": {},
   "outputs": [
    {
     "name": "stdout",
     "output_type": "stream",
     "text": [
      "['.DS_Store', 'website_index.zip']\n"
     ]
    }
   ],
   "source": [
    "with TemporaryDirectory() as d:\n",
    "    data_path = Path(d) / \"data\"\n",
    "    shutil.copytree(Path(\"..\") / \"data\" , data_path)\n",
    "\n",
    "    zip_index_files(data_path)\n",
    "    \n",
    "    actual = [x.name for x in data_path.glob('**/*') if x.is_file()]\n",
    "    print(actual)\n",
    "    assert \"website_index.zip\" in actual"
   ]
  },
  {
   "cell_type": "code",
   "execution_count": null,
   "id": "814be7e2",
   "metadata": {},
   "outputs": [],
   "source": [
    "# | export\n",
    "\n",
    "def unzip_index_files(zip_file_path: str) -> None:\n",
    "    \"\"\"Decompresses a ZIP file in the same folder.\n",
    "\n",
    "    Args:\n",
    "        zip_file_path: The path of the ZIP file to decompress.\n",
    "    \"\"\"\n",
    "    folder_path = os.path.dirname(zip_file_path)\n",
    "    with zipfile.ZipFile(zip_file_path, 'r') as zipf:\n",
    "        zipf.extractall(folder_path)"
   ]
  },
  {
   "cell_type": "code",
   "execution_count": null,
   "id": "06df761a",
   "metadata": {},
   "outputs": [
    {
     "name": "stdout",
     "output_type": "stream",
     "text": [
      "['vector_store.json', 'index_store.json', 'docstore.json']\n"
     ]
    }
   ],
   "source": [
    "with TemporaryDirectory() as d:\n",
    "    data_path = Path(d) / \"data\"\n",
    "    data_path.mkdir(parents=True)\n",
    "    test_files = [\"docstore.json\", \"index_store.json\", \"vector_store.json\"]\n",
    "    \n",
    "    for file in test_files:\n",
    "        filepath = data_path / file\n",
    "        with filepath.open(\"w\", encoding =\"utf-8\") as f:\n",
    "            f.write(\"dummy data\")\n",
    "\n",
    "    zip_index_files(data_path)\n",
    "    \n",
    "    actual = [x.name for x in data_path.glob('**/*') if x.is_file()]\n",
    "    assert \"website_index.zip\" in actual, actual\n",
    "    \n",
    "    zip_file_path = data_path / \"website_index.zip\"\n",
    "    unzip_index_files(zip_file_path)\n",
    "    \n",
    "    actual = [x.name for x in data_path.glob('**/*.json') if x.is_file()]\n",
    "    print(actual)\n",
    "    assert sorted(actual) == sorted(test_files)"
   ]
  },
  {
   "cell_type": "code",
   "execution_count": null,
   "id": "1132c02c",
   "metadata": {},
   "outputs": [],
   "source": []
  }
 ],
 "metadata": {
  "kernelspec": {
   "display_name": "fastkafkachat",
   "language": "python",
   "name": "fastkafkachat"
  }
 },
 "nbformat": 4,
 "nbformat_minor": 5
}
